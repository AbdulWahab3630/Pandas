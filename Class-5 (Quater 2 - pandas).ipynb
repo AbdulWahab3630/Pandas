{
 "cells": [
  {
   "cell_type": "markdown",
   "metadata": {},
   "source": [
    "# Function Application and Mapping"
   ]
  },
  {
   "cell_type": "code",
   "execution_count": 31,
   "metadata": {},
   "outputs": [
    {
     "name": "stdout",
     "output_type": "stream",
     "text": [
      "               a         b         c\n",
      "Ohio    0.968776 -0.776546 -0.519390\n",
      "Texas   1.369998  0.297425  1.614425\n",
      "Oregon  0.659767  2.588467 -1.569547\n",
      "Utah   -0.755822 -0.740914  0.332308\n",
      "               a         b         c\n",
      "Ohio    0.968776  0.776546  0.519390\n",
      "Texas   1.369998  0.297425  1.614425\n",
      "Oregon  0.659767  2.588467  1.569547\n",
      "Utah    0.755822  0.740914  0.332308\n",
      "-0.7765458046059873\n",
      "2.5884669946967245\n",
      "3.3650127993027117\n",
      "a    2.125820\n",
      "b    3.365013\n",
      "c    3.183972\n",
      "dtype: float64 <class 'pandas.core.series.Series'>\n",
      "Ohio      1.745321\n",
      "Texas     1.317001\n",
      "Oregon    4.158014\n",
      "Utah      1.088130\n",
      "dtype: float64\n",
      "            a         b         c\n",
      "max  1.369998  2.588467  1.614425\n",
      "min -0.755822 -0.776546 -1.569547\n"
     ]
    }
   ],
   "source": [
    "import numpy as np\n",
    "import pandas as pd\n",
    "\n",
    "Frame = pd.DataFrame(np.random.randn(4,3), columns=list(\"abc\"), index= [\"Ohio\", \"Texas\", \"Oregon\", \"Utah\"])\n",
    "print(Frame)\n",
    "print(np.abs(Frame))\n",
    "print(Frame[\"b\"].min())\n",
    "print(Frame[\"b\"].max())\n",
    "print(Frame[\"b\"].max() - Frame[\"b\"].min())\n",
    "f = lambda x: x.max() - x.min()\n",
    "df = Frame.apply(f)\n",
    "print(df, type(df))\n",
    "df = Frame.apply(f, axis=1)\n",
    "print(df)\n",
    "\n",
    "def min_max(x):\n",
    "    minimum = x.min()\n",
    "    maximum = x.max()\n",
    "    return pd.Series([maximum , minimum] , index=[\"max\", \"min\"])\n",
    "df_one = Frame.apply(min_max)\n",
    "print(df_one)\n"
   ]
  },
  {
   "cell_type": "code",
   "execution_count": 43,
   "metadata": {},
   "outputs": [
    {
     "name": "stdout",
     "output_type": "stream",
     "text": [
      "     d  c  b  a\n",
      "two  0  1  2  3\n",
      "one  4  5  6  7\n",
      "\n",
      "     d  c  b  a\n",
      "one  4  5  6  7\n",
      "two  0  1  2  3\n",
      "\n",
      "     a  b  c  d\n",
      "two  3  2  1  0\n",
      "one  7  6  5  4\n",
      "\n",
      "     d  c  b  a\n",
      "two  0  1  2  3\n",
      "one  4  5  6  7\n"
     ]
    }
   ],
   "source": [
    "frame = pd.DataFrame(np.arange(8).reshape(2,4), columns=list(\"dcba\"), index=[\"two\", \"one\"])\n",
    "print(frame)\n",
    "print()\n",
    "print(frame.sort_index())\n",
    "print()\n",
    "print(frame.sort_index(axis=1))\n",
    "print()\n",
    "print(frame.sort_index(axis=1, ascending=False))"
   ]
  },
  {
   "cell_type": "code",
   "execution_count": 63,
   "metadata": {},
   "outputs": [
    {
     "name": "stdout",
     "output_type": "stream",
     "text": [
      "               a         b         c\n",
      "Ohio   -0.544482 -0.368084 -1.058855\n",
      "Texas  -0.232299  0.473889  0.178106\n",
      "Oregon -2.469790  0.034869 -2.813350\n",
      "Utah   -1.187372  0.284728  0.153092\n",
      "               a         b         c\n",
      "Oregon -2.469790  0.034869 -2.813350\n",
      "Ohio   -0.544482 -0.368084 -1.058855\n",
      "Utah   -1.187372  0.284728  0.153092\n",
      "Texas  -0.232299  0.473889  0.178106\n",
      "          a    b    c\n",
      "Ohio    3.0  1.0  2.0\n",
      "Texas   4.0  4.0  4.0\n",
      "Oregon  1.0  2.0  1.0\n",
      "Utah    2.0  3.0  3.0\n",
      "          a    b    c\n",
      "Ohio    2.0  4.0  3.0\n",
      "Texas   1.0  1.0  1.0\n",
      "Oregon  4.0  3.0  4.0\n",
      "Utah    3.0  2.0  2.0\n",
      "          a    b    c\n",
      "Ohio    2.0  3.0  1.0\n",
      "Texas   1.0  3.0  2.0\n",
      "Oregon  2.0  3.0  1.0\n",
      "Utah    1.0  3.0  2.0\n"
     ]
    }
   ],
   "source": [
    "Frame = pd.DataFrame(np.random.randn(4,3), columns=list(\"abc\"), index= [\"Ohio\", \"Texas\", \"Oregon\", \"Utah\"])\n",
    "print(Frame)\n",
    "print(Frame.sort_values(by=\"c\"))\n",
    "print(Frame.rank(ascending= True, method=\"min\"))\n",
    "print(Frame.rank(ascending= False, method=\"max\"))\n",
    "print(Frame.rank(axis=\"columns\"))"
   ]
  },
  {
   "cell_type": "code",
   "execution_count": 90,
   "metadata": {},
   "outputs": [
    {
     "name": "stdout",
     "output_type": "stream",
     "text": [
      "   one  two\n",
      "a  1.4  6.6\n",
      "b  1.2  1.6\n",
      "c  NaN  1.6\n",
      "d -1.5  1.3\n",
      "one      NaN\n",
      "two    2.775\n",
      "dtype: float64\n",
      "a    4.0\n",
      "b    1.4\n",
      "c    NaN\n",
      "d   -0.1\n",
      "dtype: float64\n"
     ]
    }
   ],
   "source": [
    "df = pd.DataFrame([[1.4, 6.6], [1.2,1.6], [np.nan, 1.6], [-1.5, 1.3]], columns=[\"one\", \"two\"],index= [\"a\",\"b\",\"c\",\"d\"])\n",
    "print(df)\n",
    "print(df.mean(skipna=False))\n",
    "print(df.mean(axis=1, skipna=False))"
   ]
  },
  {
   "cell_type": "code",
   "execution_count": 91,
   "metadata": {},
   "outputs": [
    {
     "name": "stdout",
     "output_type": "stream",
     "text": [
      "one      NaN\n",
      "two    2.775\n",
      "dtype: float64\n",
      "one    0.366667\n",
      "two    2.775000\n",
      "dtype: float64\n"
     ]
    }
   ],
   "source": [
    "print(df.mean(axis=0 , skipna=False))\n",
    "print(df.mean(axis=0 , skipna=True))"
   ]
  },
  {
   "cell_type": "code",
   "execution_count": 95,
   "metadata": {},
   "outputs": [
    {
     "name": "stdout",
     "output_type": "stream",
     "text": [
      "   one  two\n",
      "a  1.4  6.6\n",
      "b  1.2  1.6\n",
      "c  NaN  1.6\n",
      "d -1.5  1.3\n",
      "[ 1.4  1.2  nan -1.5]\n",
      "[6.6 1.6 1.3]\n",
      "1.6    2\n",
      "1.3    1\n",
      "6.6    1\n",
      "Name: two, dtype: int64\n"
     ]
    }
   ],
   "source": [
    "print(df)\n",
    "print(df[\"one\"].unique())\n",
    "print(df[\"two\"].unique())\n",
    "print(df[\"two\"].value_counts())"
   ]
  },
  {
   "cell_type": "markdown",
   "metadata": {},
   "source": [
    "# loc and iloc"
   ]
  },
  {
   "cell_type": "code",
   "execution_count": 96,
   "metadata": {},
   "outputs": [
    {
     "name": "stdout",
     "output_type": "stream",
     "text": [
      "          one  two  three  four\n",
      "Colorado    0    1      2     3\n",
      "Ohio        4    5      6     7\n",
      "Utah        8    9     10    11\n",
      "New York   12   13     14    15\n",
      "three    6\n",
      "four     7\n",
      "Name: Ohio, dtype: int32\n",
      "          one  two\n",
      "New York   12   13\n",
      "Ohio        4    5\n",
      "          three  four\n",
      "Utah         10    11\n",
      "New York     14    15\n",
      "          one  two  three  four\n",
      "Colorado    0    1      2     3\n",
      "Ohio        4    5      6     7\n",
      "Utah        8    9     10    11\n",
      "New York   12   13     14    15\n",
      "          one  two\n",
      "Colorado    0    1\n",
      "Ohio        4    5\n",
      "Utah        8    9\n",
      "New York   12   13\n",
      "          one  two  three  four\n",
      "Colorado    0    1      2     3\n",
      "Ohio        4    5      6     7\n",
      "four    11\n",
      "one      8\n",
      "two      9\n",
      "Name: Utah, dtype: int32\n"
     ]
    }
   ],
   "source": [
    "import numpy as np\n",
    "import pandas as pd\n",
    "\n",
    "df = pd.DataFrame(np.arange(16).reshape(4,4), index = [\"Colorado\", \"Ohio\", \"Utah\", \"New York\"], columns=[\"one\", \"two\", \"three\", \"four\"])\n",
    "print(df)\n",
    "\n",
    "print(df.loc[\"Ohio\", [\"three\", \"four\"]]) \n",
    "print(df.loc[[\"New York\",\"Ohio\"], [\"one\",\"two\"]])\n",
    "\n",
    "print(df.iloc[2:4,2:4])\n",
    "print(df.iloc[:])\n",
    "print(df.iloc[:,:2])\n",
    "print(df.iloc[:2])\n",
    "print(df.iloc[2, [3,0,1]])\n"
   ]
  },
  {
   "cell_type": "markdown",
   "metadata": {},
   "source": [
    "# Arithmetic and Data Alignment"
   ]
  },
  {
   "cell_type": "markdown",
   "metadata": {},
   "source": [
    "#### Data Alignment means if indexes match then arithmetic opereration can be performed if not match may be some indexes can be added and set to NAN"
   ]
  },
  {
   "cell_type": "code",
   "execution_count": 47,
   "metadata": {},
   "outputs": [
    {
     "name": "stdout",
     "output_type": "stream",
     "text": [
      "          a  b  c\n",
      "Ohio      0  1  2\n",
      "Texas     3  4  5\n",
      "Colorado  6  7  8\n",
      "\n",
      "        a   b   c\n",
      "Utah    0   1   2\n",
      "Ohio    3   4   5\n",
      "Texas   6   7   8\n",
      "Oregon  9  10  11\n",
      "\n",
      "            a     b     c\n",
      "Colorado  NaN   NaN   NaN\n",
      "Ohio      3.0   5.0   7.0\n",
      "Oregon    NaN   NaN   NaN\n",
      "Texas     9.0  11.0  13.0\n",
      "Utah      NaN   NaN   NaN\n"
     ]
    }
   ],
   "source": [
    "df1 = pd.DataFrame(np.arange(9).reshape(3,3), index=[\"Ohio\", \"Texas\", \"Colorado\"], columns=list(\"abc\"))\n",
    "df2 = pd.DataFrame(np.arange(12).reshape(4,3), index=[\"Utah\", \"Ohio\", \"Texas\", \"Oregon\"], columns=list(\"abc\"))\n",
    "print(df1)\n",
    "print()\n",
    "print(df2)\n",
    "print()\n",
    "df3 = df1 + df2\n",
    "print(df3)"
   ]
  },
  {
   "cell_type": "code",
   "execution_count": 48,
   "metadata": {},
   "outputs": [
    {
     "name": "stdout",
     "output_type": "stream",
     "text": [
      "             a     b     c\n",
      "Colorado   7.0   8.0   9.0\n",
      "Ohio       3.0   5.0   7.0\n",
      "Oregon    10.0  11.0  12.0\n",
      "Texas      9.0  11.0  13.0\n",
      "Utah       1.0   2.0   3.0\n"
     ]
    }
   ],
   "source": [
    "df3 = df1.add(df2, fill_value= 1)\n",
    "print(df3)"
   ]
  },
  {
   "cell_type": "code",
   "execution_count": 53,
   "metadata": {},
   "outputs": [
    {
     "name": "stdout",
     "output_type": "stream",
     "text": [
      "a    0\n",
      "b    1\n",
      "c    2\n",
      "Name: Utah, dtype: int32\n",
      "        a   b   c\n",
      "Utah    0   1   2\n",
      "Ohio    3   4   5\n",
      "Texas   6   7   8\n",
      "Oregon  9  10  11\n",
      "a    1\n",
      "b    2\n",
      "c    3\n",
      "dtype: int64\n",
      "        a  b  c\n",
      "Utah   -1 -1 -1\n",
      "Ohio    2  2  2\n",
      "Texas   5  5  5\n",
      "Oregon  8  8  8\n"
     ]
    }
   ],
   "source": [
    "df = pd.DataFrame(np.arange(12).reshape(4,3), index=[\"Utah\", \"Ohio\", \"Texas\", \"Oregon\"], columns=list(\"abc\"))\n",
    "print(df.iloc[0])\n",
    "print(df)\n",
    "\n",
    "series = pd.Series([1,2,3], index=list(\"abc\"))\n",
    "print(series)\n",
    "print(df-series)"
   ]
  },
  {
   "cell_type": "markdown",
   "metadata": {},
   "source": [
    "# Deleting Data (row or column from Data Frame)"
   ]
  },
  {
   "cell_type": "code",
   "execution_count": 5,
   "metadata": {},
   "outputs": [
    {
     "name": "stdout",
     "output_type": "stream",
     "text": [
      "          one  three\n",
      "Ohio        0      2\n",
      "New York    3      5\n",
      "Utah        6      8\n",
      "Colorado    9     11\n",
      "          one  three\n",
      "Ohio        0      2\n",
      "New York    3      5\n",
      "Utah        6      8\n"
     ]
    }
   ],
   "source": [
    "import numpy as np\n",
    "import pandas as pd\n",
    "\n",
    "df = pd.DataFrame(np.arange(12).reshape(4,3), index= [\"Ohio\", \"New York\", \"Utah\", \"Colorado\"],\n",
    "                                              columns= [\"one\", \"two\",\"three\"])\n",
    "df.head()\n",
    "df = df.drop(\"two\", axis=1)\n",
    "print(df)\n",
    "df = df.drop(\"Colorado\")\n",
    "print(df)\n"
   ]
  },
  {
   "cell_type": "markdown",
   "metadata": {},
   "source": [
    "# Indexing, Selection and Filtering"
   ]
  },
  {
   "cell_type": "code",
   "execution_count": 93,
   "metadata": {},
   "outputs": [
    {
     "name": "stdout",
     "output_type": "stream",
     "text": [
      "          one  two  three  four\n",
      "Ohio        0    1      2     3\n",
      "New York    4    5      6     7\n",
      "Utah        8    9     10    11\n",
      "Colorado   12   13     14    15\n",
      "          one  two\n",
      "Ohio        0    1\n",
      "New York    4    5\n",
      "Utah        8    9\n",
      "Colorado   12   13\n",
      "          one  two  three  four\n",
      "Utah        8    9     10    11\n",
      "Colorado   12   13     14    15\n",
      "Utah         9\n",
      "Colorado    13\n",
      "Name: two, dtype: int32\n",
      "Ohio        False\n",
      "New York     True\n",
      "Utah         True\n",
      "Colorado     True\n",
      "Name: two, dtype: bool\n",
      "          one  two  three  four\n",
      "New York    4    5      6     7\n",
      "Utah        8    9     10    11\n",
      "Colorado   12   13     14    15\n",
      "New York     6\n",
      "Utah        10\n",
      "Colorado    14\n",
      "Name: three, dtype: int32\n"
     ]
    }
   ],
   "source": [
    "df1 = pd.DataFrame(np.arange(16).reshape(4,4), index= [\"Ohio\", \"New York\", \"Utah\", \"Colorado\"],\n",
    "                                              columns= [\"one\", \"two\",\"three\", \"four\"])\n",
    "print(df1)\n",
    "df2 = df1[[\"one\" , \"two\"]]\n",
    "print(df2)\n",
    "df3 = df1[2:]\n",
    "print(df3)\n",
    "print(df1.two[2:])\n",
    "print(df1[\"two\"] >3)\n",
    "print(df1[df1[\"three\" ]> 5])\n",
    "print(df1.three[df1[\"three\"] >5])"
   ]
  },
  {
   "cell_type": "markdown",
   "metadata": {},
   "source": [
    "# Reindex"
   ]
  },
  {
   "cell_type": "code",
   "execution_count": 45,
   "metadata": {},
   "outputs": [
    {
     "name": "stdout",
     "output_type": "stream",
     "text": [
      "0     Purple\n",
      "5        Red\n",
      "10     White\n",
      "dtype: object\n",
      "0    Purple\n",
      "1       NaN\n",
      "2       NaN\n",
      "3       NaN\n",
      "4       NaN\n",
      "5       Red\n",
      "6       NaN\n",
      "7       NaN\n",
      "8       NaN\n",
      "dtype: object\n",
      "0    Purple\n",
      "1    Purple\n",
      "2    Purple\n",
      "3    Purple\n",
      "4    Purple\n",
      "5       Red\n",
      "6       Red\n",
      "7       Red\n",
      "8       Red\n",
      "dtype: object\n",
      "5       Red\n",
      "6       Red\n",
      "7       Red\n",
      "8       Red\n",
      "9       Red\n",
      "10    White\n",
      "11    White\n",
      "12    White\n",
      "13    White\n",
      "14    White\n",
      "dtype: object\n"
     ]
    }
   ],
   "source": [
    "obj1 = pd.Series([\"Purple\", \"Red\", \"White\"], index=[0, 5, 10] )\n",
    "print(obj1)\n",
    "obj2 = obj1.reindex(range(9))\n",
    "print(obj2)\n",
    "obj3 = obj1.reindex(range(9), method=\"ffill\")\n",
    "print(obj3)\n",
    "obj4 = obj1.reindex(range(5,15), method=\"ffill\")\n",
    "print(obj4)\n"
   ]
  },
  {
   "cell_type": "code",
   "execution_count": 78,
   "metadata": {},
   "outputs": [
    {
     "name": "stdout",
     "output_type": "stream",
     "text": [
      "   Ohio  New York  Utah\n",
      "a     0         1     2\n",
      "b     3         4     5\n",
      "c     6         7     8\n",
      "   Utah  Ohio  Colorado  New York\n",
      "a     2     0       NaN         1\n",
      "b     5     3       NaN         4\n",
      "c     8     6       NaN         7\n"
     ]
    }
   ],
   "source": [
    "df = pd.DataFrame(np.arange(9).reshape(3,3), index=[\"a\", \"b\", \"c\"], columns=[\"Ohio\", \"New York\", \"Utah\"])\n",
    "print(df)\n",
    "states = [\"Utah\", \"Ohio\", \"Colorado\", \"New York\"]\n",
    "df = df.reindex(columns= states)\n",
    "print(df)\n"
   ]
  },
  {
   "cell_type": "code",
   "execution_count": 68,
   "metadata": {},
   "outputs": [
    {
     "name": "stdout",
     "output_type": "stream",
     "text": [
      "   Ohio  New York  Utah\n",
      "a     0         1     2\n",
      "b     3         4     5\n",
      "c     6         7     8\n",
      "   Ohio  New York  Utah\n",
      "a     0         1     2\n",
      "b     3         4     5\n",
      "c     6         7     8\n",
      "d     6         7     8\n"
     ]
    }
   ],
   "source": [
    "df = pd.DataFrame(np.arange(9).reshape(3,3), index=[\"a\", \"b\", \"c\"], columns=[\"Ohio\", \"New York\", \"Utah\"])\n",
    "print(df)\n",
    "df = df.reindex([\"a\",\"b\",\"c\",\"d\"], method= \"ffill\")\n",
    "print(df)"
   ]
  },
  {
   "cell_type": "code",
   "execution_count": null,
   "metadata": {},
   "outputs": [],
   "source": []
  }
 ],
 "metadata": {
  "kernelspec": {
   "display_name": "Python 3",
   "language": "python",
   "name": "python3"
  },
  "language_info": {
   "codemirror_mode": {
    "name": "ipython",
    "version": 3
   },
   "file_extension": ".py",
   "mimetype": "text/x-python",
   "name": "python",
   "nbconvert_exporter": "python",
   "pygments_lexer": "ipython3",
   "version": "3.7.3"
  }
 },
 "nbformat": 4,
 "nbformat_minor": 2
}
