{
 "cells": [
  {
   "cell_type": "markdown",
   "metadata": {},
   "source": [
    "# Series"
   ]
  },
  {
   "cell_type": "code",
   "execution_count": 4,
   "metadata": {},
   "outputs": [
    {
     "name": "stdout",
     "output_type": "stream",
     "text": [
      "0    5\n",
      "1   -1\n",
      "2    3\n",
      "3    8\n",
      "dtype: int64\n"
     ]
    }
   ],
   "source": [
    "import pandas as pd\n",
    "obj = pd.Series([5,-1,3,8])\n",
    "print(obj)"
   ]
  },
  {
   "cell_type": "code",
   "execution_count": 5,
   "metadata": {},
   "outputs": [
    {
     "name": "stdout",
     "output_type": "stream",
     "text": [
      "[100 500 100 300]\n",
      "RangeIndex(start=0, stop=4, step=1)\n"
     ]
    }
   ],
   "source": [
    "sales = pd.Series([100,500,100,300])\n",
    "print(sales.values)\n",
    "print(sales.index)"
   ]
  },
  {
   "cell_type": "code",
   "execution_count": 6,
   "metadata": {},
   "outputs": [
    {
     "name": "stdout",
     "output_type": "stream",
     "text": [
      "Jan    200\n",
      "Feb    100\n",
      "Mar    700\n",
      "Apr    400\n",
      "dtype: int64\n",
      "[200 100 700 400]\n",
      "Index(['Jan', 'Feb', 'Mar', 'Apr'], dtype='object')\n"
     ]
    }
   ],
   "source": [
    "sales = pd.Series([200,100,700,400], index=[\"Jan\",\"Feb\",\"Mar\",\"Apr\"])\n",
    "print(sales)\n",
    "print(sales.values)\n",
    "print(sales.index)"
   ]
  },
  {
   "cell_type": "code",
   "execution_count": 7,
   "metadata": {},
   "outputs": [
    {
     "name": "stdout",
     "output_type": "stream",
     "text": [
      "Jan    200\n",
      "Feb    100\n",
      "Mar    700\n",
      "Apr    400\n",
      "Name: Four Months Data, dtype: int64\n"
     ]
    }
   ],
   "source": [
    "sales = pd.Series([200,100,700,400], index=[\"Jan\",\"Feb\",\"Mar\",\"Apr\"], name=\"Four Months Data\")\n",
    "print(sales)"
   ]
  },
  {
   "cell_type": "code",
   "execution_count": 8,
   "metadata": {},
   "outputs": [
    {
     "name": "stdout",
     "output_type": "stream",
     "text": [
      "Monday       50\n",
      "Tuesday      45\n",
      "Wednesday    60\n",
      "Thursday     32\n",
      "Friday       20\n",
      "Saturday     12\n",
      "Sunday        0\n",
      "Name: One week canteen data, dtype: int64\n"
     ]
    }
   ],
   "source": [
    "quantity = pd.Series([50,45,60,32,20,12,0], index=[\"Monday\",\"Tuesday\",\"Wednesday\",\"Thursday\",\"Friday\",\"Saturday\",\"Sunday\"], name=\"One week canteen data\")\n",
    "print(quantity)\n"
   ]
  },
  {
   "cell_type": "markdown",
   "metadata": {},
   "source": [
    "# Accessing Data"
   ]
  },
  {
   "cell_type": "code",
   "execution_count": 9,
   "metadata": {},
   "outputs": [
    {
     "name": "stdout",
     "output_type": "stream",
     "text": [
      "20\n",
      "20\n",
      "0\n"
     ]
    }
   ],
   "source": [
    "print(quantity[4])\n",
    "print(quantity[\"Friday\"])\n",
    "print(quantity[6])"
   ]
  },
  {
   "cell_type": "code",
   "execution_count": 10,
   "metadata": {},
   "outputs": [
    {
     "name": "stdout",
     "output_type": "stream",
     "text": [
      "Tuesday     45\n",
      "Thursday    32\n",
      "Saturday    12\n",
      "Name: One week canteen data, dtype: int64\n"
     ]
    }
   ],
   "source": [
    "print(quantity[[1,3,5]])"
   ]
  },
  {
   "cell_type": "code",
   "execution_count": 11,
   "metadata": {},
   "outputs": [
    {
     "name": "stdout",
     "output_type": "stream",
     "text": [
      "Wednesday    60\n",
      "Saturday     12\n",
      "Name: One week canteen data, dtype: int64\n"
     ]
    }
   ],
   "source": [
    "print(quantity[[\"Wednesday\",\"Saturday\"]])"
   ]
  },
  {
   "cell_type": "code",
   "execution_count": 12,
   "metadata": {},
   "outputs": [
    {
     "name": "stdout",
     "output_type": "stream",
     "text": [
      "Monday       50\n",
      "Tuesday      45\n",
      "Wednesday    60\n",
      "Thursday     32\n",
      "Name: One week canteen data, dtype: int64\n"
     ]
    }
   ],
   "source": [
    "print(quantity[quantity>20])"
   ]
  },
  {
   "cell_type": "code",
   "execution_count": 13,
   "metadata": {},
   "outputs": [
    {
     "name": "stdout",
     "output_type": "stream",
     "text": [
      "Monday       50\n",
      "Tuesday      45\n",
      "Wednesday    60\n",
      "Thursday     32\n",
      "Friday       20\n",
      "Saturday     12\n",
      "Sunday        0\n",
      "Name: One week canteen data, dtype: int64\n"
     ]
    }
   ],
   "source": [
    "quantity*2\n",
    "print(quantity)"
   ]
  },
  {
   "cell_type": "code",
   "execution_count": 14,
   "metadata": {},
   "outputs": [
    {
     "name": "stdout",
     "output_type": "stream",
     "text": [
      "Monday       100\n",
      "Tuesday       90\n",
      "Wednesday    120\n",
      "Thursday      64\n",
      "Friday        40\n",
      "Saturday      24\n",
      "Sunday         0\n",
      "Name: One week canteen data, dtype: int64\n"
     ]
    }
   ],
   "source": [
    "quantity = quantity * 2\n",
    "print(quantity)"
   ]
  },
  {
   "cell_type": "code",
   "execution_count": 15,
   "metadata": {},
   "outputs": [
    {
     "name": "stdout",
     "output_type": "stream",
     "text": [
      "Monday       100\n",
      "Tuesday       90\n",
      "Wednesday    120\n",
      "Thursday      64\n",
      "Friday        40\n",
      "Saturday      24\n",
      "Sunday         0\n",
      "Name: One week canteen data, dtype: int64\n"
     ]
    }
   ],
   "source": [
    "print(quantity)"
   ]
  },
  {
   "cell_type": "code",
   "execution_count": 16,
   "metadata": {},
   "outputs": [
    {
     "name": "stdout",
     "output_type": "stream",
     "text": [
      "Monday       50.0\n",
      "Tuesday      45.0\n",
      "Wednesday    60.0\n",
      "Thursday     32.0\n",
      "Friday       20.0\n",
      "Saturday     12.0\n",
      "Sunday        0.0\n",
      "Name: One week canteen data, dtype: float64\n"
     ]
    }
   ],
   "source": [
    "quantity = quantity / 2\n",
    "print(quantity)"
   ]
  },
  {
   "cell_type": "code",
   "execution_count": 17,
   "metadata": {},
   "outputs": [
    {
     "data": {
      "text/plain": [
       "True"
      ]
     },
     "execution_count": 17,
     "metadata": {},
     "output_type": "execute_result"
    }
   ],
   "source": [
    "\"Monday\" in quantity"
   ]
  },
  {
   "cell_type": "code",
   "execution_count": 18,
   "metadata": {},
   "outputs": [
    {
     "data": {
      "text/plain": [
       "False"
      ]
     },
     "execution_count": 18,
     "metadata": {},
     "output_type": "execute_result"
    }
   ],
   "source": [
    "\"Fraud\" in quantity"
   ]
  },
  {
   "cell_type": "code",
   "execution_count": 19,
   "metadata": {},
   "outputs": [
    {
     "name": "stdout",
     "output_type": "stream",
     "text": [
      "a    5\n",
      "b    2\n",
      "c    3\n",
      "d    4\n",
      "e    9\n",
      "dtype: int32\n"
     ]
    }
   ],
   "source": [
    "import numpy as np\n",
    "arr = np.array([5,2,3,4,9])\n",
    "ind = np.array(['a','b','c','d','e'])\n",
    "obj = pd.Series(arr, index = ind)\n",
    "print(obj)\n"
   ]
  },
  {
   "cell_type": "code",
   "execution_count": 20,
   "metadata": {},
   "outputs": [
    {
     "name": "stdout",
     "output_type": "stream",
     "text": [
      "Punjab         500000000\n",
      "Sindh           20000000\n",
      "Kpk             12000000\n",
      "Balochistan      5000000\n",
      "dtype: object\n",
      "Index(['Punjab', 'Sindh', 'Kpk', 'Balochistan'], dtype='object')\n"
     ]
    }
   ],
   "source": [
    "sdata = {\"Punjab\" : 500000000, \"Sindh\" : 20000000, \"Kpk\" : \"12000000\", \"Balochistan\" : 5000000}\n",
    "tax_by_state = pd.Series(sdata)\n",
    "print(tax_by_state)\n",
    "print(tax_by_state.index)"
   ]
  },
  {
   "cell_type": "code",
   "execution_count": 21,
   "metadata": {},
   "outputs": [
    {
     "name": "stdout",
     "output_type": "stream",
     "text": [
      "Balochistan      5000000\n",
      "Kpk             12000000\n",
      "Punjab         500000000\n",
      "Sindh           20000000\n",
      "GB                   NaN\n",
      "dtype: object\n",
      "Balochistan    False\n",
      "Kpk            False\n",
      "Punjab         False\n",
      "Sindh          False\n",
      "GB              True\n",
      "dtype: bool\n",
      "B      5000000\n",
      "K     12000000\n",
      "P    500000000\n",
      "S     20000000\n",
      "G          NaN\n",
      "dtype: object\n"
     ]
    }
   ],
   "source": [
    "sdata = {\"Punjab\" : 500000000, \"Sindh\" : 20000000, \"Kpk\" : \"12000000\", \"Balochistan\" : 5000000}\n",
    "tax_by_state = pd.Series(sdata, index = [\"Balochistan\",\"Kpk\",\"Punjab\",\"Sindh\", \"GB\"])\n",
    "print(tax_by_state)\n",
    "print(tax_by_state.isnull())\n",
    "tax_by_state.index = [\"B\", \"K\",\"P\", \"S\", \"G\"]\n",
    "print(tax_by_state)\n"
   ]
  },
  {
   "cell_type": "markdown",
   "metadata": {},
   "source": [
    "# **Source of Data for Pandas Series**\n",
    "* Direct insert data in the Series\n",
    "* From numpy array\n",
    "* From Dictionary"
   ]
  },
  {
   "cell_type": "markdown",
   "metadata": {},
   "source": [
    "# Datarame"
   ]
  },
  {
   "cell_type": "code",
   "execution_count": 22,
   "metadata": {},
   "outputs": [
    {
     "name": "stdout",
     "output_type": "stream",
     "text": [
      "   Apples  Oranges\n",
      "0       3        7\n",
      "1       4        8\n",
      "2       5        9\n",
      "3       6        2\n"
     ]
    }
   ],
   "source": [
    "import pandas as pd\n",
    "\n",
    "Apples = pd.Series([3, 4, 5, 6])\n",
    "Oranges = pd.Series([7, 8, 9, 2])\n",
    "Fruits = {\"Apples\" : Apples, \"Oranges\" : Oranges}\n",
    "Table = pd.DataFrame(Fruits)\n",
    "print(Table)"
   ]
  },
  {
   "cell_type": "code",
   "execution_count": 23,
   "metadata": {},
   "outputs": [
    {
     "name": "stdout",
     "output_type": "stream",
     "text": [
      "      State  Year  Pop\n",
      "0      Ohio  2000  1.2\n",
      "1      Ohio  2001  1.6\n",
      "2      Ohio  2002  1.8\n",
      "3  New York  2003  2.1\n",
      "4  New York  2004  2.5\n",
      "5  New York  2005  2.7\n",
      "        State  Year  Pop\n",
      "1st      Ohio  2000  1.2\n",
      "2nd      Ohio  2001  1.6\n",
      "3rd      Ohio  2002  1.8\n",
      "4th  New York  2003  2.1\n",
      "5th  New York  2004  2.5\n",
      "6th  New York  2005  2.7\n"
     ]
    }
   ],
   "source": [
    "state = [\"Ohio\", \"Ohio\", \"Ohio\", \"New York\", \"New York\", \"New York\"]\n",
    "data = {\"State\" : state,\n",
    "        \"Year\" : [2000, 2001, 2002, 2003, 2004, 2005],\n",
    "        \"Pop\" : [1.2, 1.6, 1.8, 2.1, 2.5, 2.7]}\n",
    "state_pop_df = pd.DataFrame(data)\n",
    "print(state_pop_df)\n",
    "state_pop_df = pd.DataFrame(data, index = [\"1st\", \"2nd\", \"3rd\", \"4th\", \"5th\", \"6th\"])\n",
    "print(state_pop_df)"
   ]
  },
  {
   "cell_type": "code",
   "execution_count": 24,
   "metadata": {},
   "outputs": [
    {
     "data": {
      "text/html": [
       "<div>\n",
       "<style scoped>\n",
       "    .dataframe tbody tr th:only-of-type {\n",
       "        vertical-align: middle;\n",
       "    }\n",
       "\n",
       "    .dataframe tbody tr th {\n",
       "        vertical-align: top;\n",
       "    }\n",
       "\n",
       "    .dataframe thead th {\n",
       "        text-align: right;\n",
       "    }\n",
       "</style>\n",
       "<table border=\"1\" class=\"dataframe\">\n",
       "  <thead>\n",
       "    <tr style=\"text-align: right;\">\n",
       "      <th></th>\n",
       "      <th>State</th>\n",
       "      <th>Year</th>\n",
       "      <th>Pop</th>\n",
       "    </tr>\n",
       "  </thead>\n",
       "  <tbody>\n",
       "    <tr>\n",
       "      <th>1st</th>\n",
       "      <td>Ohio</td>\n",
       "      <td>2000</td>\n",
       "      <td>1.2</td>\n",
       "    </tr>\n",
       "    <tr>\n",
       "      <th>2nd</th>\n",
       "      <td>Ohio</td>\n",
       "      <td>2001</td>\n",
       "      <td>1.6</td>\n",
       "    </tr>\n",
       "    <tr>\n",
       "      <th>3rd</th>\n",
       "      <td>Ohio</td>\n",
       "      <td>2002</td>\n",
       "      <td>1.8</td>\n",
       "    </tr>\n",
       "    <tr>\n",
       "      <th>4th</th>\n",
       "      <td>New York</td>\n",
       "      <td>2003</td>\n",
       "      <td>2.1</td>\n",
       "    </tr>\n",
       "    <tr>\n",
       "      <th>5th</th>\n",
       "      <td>New York</td>\n",
       "      <td>2004</td>\n",
       "      <td>2.5</td>\n",
       "    </tr>\n",
       "  </tbody>\n",
       "</table>\n",
       "</div>"
      ],
      "text/plain": [
       "        State  Year  Pop\n",
       "1st      Ohio  2000  1.2\n",
       "2nd      Ohio  2001  1.6\n",
       "3rd      Ohio  2002  1.8\n",
       "4th  New York  2003  2.1\n",
       "5th  New York  2004  2.5"
      ]
     },
     "execution_count": 24,
     "metadata": {},
     "output_type": "execute_result"
    }
   ],
   "source": [
    "state_pop_df.head()"
   ]
  },
  {
   "cell_type": "code",
   "execution_count": 25,
   "metadata": {},
   "outputs": [
    {
     "name": "stdout",
     "output_type": "stream",
     "text": [
      "   Year     State  Pop\n",
      "0  2000      Ohio  1.2\n",
      "1  2001      Ohio  1.6\n",
      "2  2002      Ohio  1.8\n",
      "3  2003  New York  2.1\n",
      "4  2004  New York  2.5\n",
      "5  2005  New York  2.7\n"
     ]
    }
   ],
   "source": [
    "state_pop_df = pd.DataFrame(data , columns = [\"Year\", \"State\", \"Pop\"])\n",
    "print(state_pop_df)"
   ]
  },
  {
   "cell_type": "code",
   "execution_count": 26,
   "metadata": {},
   "outputs": [
    {
     "data": {
      "text/html": [
       "<div>\n",
       "<style scoped>\n",
       "    .dataframe tbody tr th:only-of-type {\n",
       "        vertical-align: middle;\n",
       "    }\n",
       "\n",
       "    .dataframe tbody tr th {\n",
       "        vertical-align: top;\n",
       "    }\n",
       "\n",
       "    .dataframe thead th {\n",
       "        text-align: right;\n",
       "    }\n",
       "</style>\n",
       "<table border=\"1\" class=\"dataframe\">\n",
       "  <thead>\n",
       "    <tr style=\"text-align: right;\">\n",
       "      <th></th>\n",
       "      <th>Year</th>\n",
       "      <th>State</th>\n",
       "      <th>Pop</th>\n",
       "      <th>Debt</th>\n",
       "    </tr>\n",
       "  </thead>\n",
       "  <tbody>\n",
       "    <tr>\n",
       "      <th>1st</th>\n",
       "      <td>2000</td>\n",
       "      <td>Ohio</td>\n",
       "      <td>1.2</td>\n",
       "      <td>NaN</td>\n",
       "    </tr>\n",
       "    <tr>\n",
       "      <th>2nd</th>\n",
       "      <td>2001</td>\n",
       "      <td>Ohio</td>\n",
       "      <td>1.6</td>\n",
       "      <td>NaN</td>\n",
       "    </tr>\n",
       "    <tr>\n",
       "      <th>3rd</th>\n",
       "      <td>2002</td>\n",
       "      <td>Ohio</td>\n",
       "      <td>1.8</td>\n",
       "      <td>NaN</td>\n",
       "    </tr>\n",
       "    <tr>\n",
       "      <th>4th</th>\n",
       "      <td>2003</td>\n",
       "      <td>New York</td>\n",
       "      <td>2.1</td>\n",
       "      <td>NaN</td>\n",
       "    </tr>\n",
       "    <tr>\n",
       "      <th>5th</th>\n",
       "      <td>2004</td>\n",
       "      <td>New York</td>\n",
       "      <td>2.5</td>\n",
       "      <td>NaN</td>\n",
       "    </tr>\n",
       "  </tbody>\n",
       "</table>\n",
       "</div>"
      ],
      "text/plain": [
       "     Year     State  Pop Debt\n",
       "1st  2000      Ohio  1.2  NaN\n",
       "2nd  2001      Ohio  1.6  NaN\n",
       "3rd  2002      Ohio  1.8  NaN\n",
       "4th  2003  New York  2.1  NaN\n",
       "5th  2004  New York  2.5  NaN"
      ]
     },
     "execution_count": 26,
     "metadata": {},
     "output_type": "execute_result"
    }
   ],
   "source": [
    "state_pop_df2 = pd.DataFrame(data , columns = [\"Year\", \"State\", \"Pop\", \"Debt\"] , index= [\"1st\",\"2nd\", \"3rd\", \"4th\", \"5th\", \"6th\"])\n",
    "state_pop_df2.head()\n"
   ]
  },
  {
   "cell_type": "code",
   "execution_count": 27,
   "metadata": {},
   "outputs": [
    {
     "name": "stdout",
     "output_type": "stream",
     "text": [
      "Index(['Year', 'State', 'Pop', 'Debt'], dtype='object')\n",
      "Index(['1st', '2nd', '3rd', '4th', '5th', '6th'], dtype='object')\n"
     ]
    }
   ],
   "source": [
    "print(state_pop_df2.columns)\n",
    "print(state_pop_df2.index)"
   ]
  },
  {
   "cell_type": "markdown",
   "metadata": {},
   "source": [
    "# We can extract data through dictionary like notaion and through attribute style"
   ]
  },
  {
   "cell_type": "code",
   "execution_count": 28,
   "metadata": {},
   "outputs": [
    {
     "data": {
      "text/plain": [
       "1st    1.2\n",
       "2nd    1.6\n",
       "3rd    1.8\n",
       "4th    2.1\n",
       "5th    2.5\n",
       "6th    2.7\n",
       "Name: Pop, dtype: float64"
      ]
     },
     "execution_count": 28,
     "metadata": {},
     "output_type": "execute_result"
    }
   ],
   "source": [
    "state_pop_df2[\"Pop\"]"
   ]
  },
  {
   "cell_type": "markdown",
   "metadata": {},
   "source": [
    "# Attribute Style"
   ]
  },
  {
   "cell_type": "code",
   "execution_count": 29,
   "metadata": {},
   "outputs": [
    {
     "data": {
      "text/plain": [
       "1st    1.2\n",
       "2nd    1.6\n",
       "3rd    1.8\n",
       "4th    2.1\n",
       "5th    2.5\n",
       "6th    2.7\n",
       "Name: Pop, dtype: float64"
      ]
     },
     "execution_count": 29,
     "metadata": {},
     "output_type": "execute_result"
    }
   ],
   "source": [
    "state_pop_df2.Pop\n"
   ]
  },
  {
   "cell_type": "code",
   "execution_count": 30,
   "metadata": {},
   "outputs": [
    {
     "data": {
      "text/plain": [
       "Year     2002\n",
       "State    Ohio\n",
       "Pop       1.8\n",
       "Debt      NaN\n",
       "Name: 3rd, dtype: object"
      ]
     },
     "execution_count": 30,
     "metadata": {},
     "output_type": "execute_result"
    }
   ],
   "source": [
    "\n",
    "state_pop_df2.loc[\"3rd\"]"
   ]
  },
  {
   "cell_type": "code",
   "execution_count": 37,
   "metadata": {},
   "outputs": [
    {
     "data": {
      "text/html": [
       "<div>\n",
       "<style scoped>\n",
       "    .dataframe tbody tr th:only-of-type {\n",
       "        vertical-align: middle;\n",
       "    }\n",
       "\n",
       "    .dataframe tbody tr th {\n",
       "        vertical-align: top;\n",
       "    }\n",
       "\n",
       "    .dataframe thead th {\n",
       "        text-align: right;\n",
       "    }\n",
       "</style>\n",
       "<table border=\"1\" class=\"dataframe\">\n",
       "  <thead>\n",
       "    <tr style=\"text-align: right;\">\n",
       "      <th></th>\n",
       "      <th>Year</th>\n",
       "      <th>State</th>\n",
       "      <th>Pop</th>\n",
       "      <th>Debt</th>\n",
       "    </tr>\n",
       "  </thead>\n",
       "  <tbody>\n",
       "    <tr>\n",
       "      <th>1st</th>\n",
       "      <td>2000</td>\n",
       "      <td>Ohio</td>\n",
       "      <td>1.2</td>\n",
       "      <td>0</td>\n",
       "    </tr>\n",
       "    <tr>\n",
       "      <th>2nd</th>\n",
       "      <td>2001</td>\n",
       "      <td>Ohio</td>\n",
       "      <td>1.6</td>\n",
       "      <td>1</td>\n",
       "    </tr>\n",
       "    <tr>\n",
       "      <th>3rd</th>\n",
       "      <td>2002</td>\n",
       "      <td>Ohio</td>\n",
       "      <td>1.8</td>\n",
       "      <td>2</td>\n",
       "    </tr>\n",
       "    <tr>\n",
       "      <th>4th</th>\n",
       "      <td>2003</td>\n",
       "      <td>New York</td>\n",
       "      <td>2.1</td>\n",
       "      <td>3</td>\n",
       "    </tr>\n",
       "    <tr>\n",
       "      <th>5th</th>\n",
       "      <td>2004</td>\n",
       "      <td>New York</td>\n",
       "      <td>2.5</td>\n",
       "      <td>4</td>\n",
       "    </tr>\n",
       "  </tbody>\n",
       "</table>\n",
       "</div>"
      ],
      "text/plain": [
       "     Year     State  Pop  Debt\n",
       "1st  2000      Ohio  1.2     0\n",
       "2nd  2001      Ohio  1.6     1\n",
       "3rd  2002      Ohio  1.8     2\n",
       "4th  2003  New York  2.1     3\n",
       "5th  2004  New York  2.5     4"
      ]
     },
     "execution_count": 37,
     "metadata": {},
     "output_type": "execute_result"
    }
   ],
   "source": [
    "state_pop_df2 = pd.DataFrame(data , columns = [\"Year\", \"State\", \"Pop\", \"Debt\"] , index= [\"1st\",\"2nd\", \"3rd\", \"4th\", \"5th\", \"6th\"])\n",
    "ln = len(state_pop_df2)\n",
    "d = np.arange(ln)\n",
    "state_pop_df2[\"Debt\"]= d\n",
    "state_pop_df2.head()\n",
    "\n"
   ]
  },
  {
   "cell_type": "code",
   "execution_count": 43,
   "metadata": {},
   "outputs": [
    {
     "data": {
      "text/html": [
       "<div>\n",
       "<style scoped>\n",
       "    .dataframe tbody tr th:only-of-type {\n",
       "        vertical-align: middle;\n",
       "    }\n",
       "\n",
       "    .dataframe tbody tr th {\n",
       "        vertical-align: top;\n",
       "    }\n",
       "\n",
       "    .dataframe thead th {\n",
       "        text-align: right;\n",
       "    }\n",
       "</style>\n",
       "<table border=\"1\" class=\"dataframe\">\n",
       "  <thead>\n",
       "    <tr style=\"text-align: right;\">\n",
       "      <th></th>\n",
       "      <th>Year</th>\n",
       "      <th>State</th>\n",
       "      <th>Pop</th>\n",
       "      <th>Debt</th>\n",
       "    </tr>\n",
       "  </thead>\n",
       "  <tbody>\n",
       "    <tr>\n",
       "      <th>1st</th>\n",
       "      <td>2000</td>\n",
       "      <td>Ohio</td>\n",
       "      <td>1.2</td>\n",
       "      <td>1.2</td>\n",
       "    </tr>\n",
       "    <tr>\n",
       "      <th>2nd</th>\n",
       "      <td>2001</td>\n",
       "      <td>Ohio</td>\n",
       "      <td>1.6</td>\n",
       "      <td>1.5</td>\n",
       "    </tr>\n",
       "    <tr>\n",
       "      <th>3rd</th>\n",
       "      <td>2002</td>\n",
       "      <td>Ohio</td>\n",
       "      <td>1.8</td>\n",
       "      <td>1.7</td>\n",
       "    </tr>\n",
       "    <tr>\n",
       "      <th>4th</th>\n",
       "      <td>2003</td>\n",
       "      <td>New York</td>\n",
       "      <td>2.1</td>\n",
       "      <td>1.2</td>\n",
       "    </tr>\n",
       "    <tr>\n",
       "      <th>5th</th>\n",
       "      <td>2004</td>\n",
       "      <td>New York</td>\n",
       "      <td>2.5</td>\n",
       "      <td>1.5</td>\n",
       "    </tr>\n",
       "  </tbody>\n",
       "</table>\n",
       "</div>"
      ],
      "text/plain": [
       "     Year     State  Pop Debt\n",
       "1st  2000      Ohio  1.2  1.2\n",
       "2nd  2001      Ohio  1.6  1.5\n",
       "3rd  2002      Ohio  1.8  1.7\n",
       "4th  2003  New York  2.1  1.2\n",
       "5th  2004  New York  2.5  1.5"
      ]
     },
     "execution_count": 43,
     "metadata": {},
     "output_type": "execute_result"
    }
   ],
   "source": [
    "val = pd.Series([\"1.2\", \"1.5\", \"1.7\", \"1.2\", \"1.5\", \"1.7\"], index= [\"1st\",\"2nd\", \"3rd\", \"4th\", \"5th\", \"6th\"] )\n",
    "state_pop_df2[\"Debt\"]= val\n",
    "state_pop_df2.head()"
   ]
  },
  {
   "cell_type": "code",
   "execution_count": 45,
   "metadata": {},
   "outputs": [
    {
     "data": {
      "text/html": [
       "<div>\n",
       "<style scoped>\n",
       "    .dataframe tbody tr th:only-of-type {\n",
       "        vertical-align: middle;\n",
       "    }\n",
       "\n",
       "    .dataframe tbody tr th {\n",
       "        vertical-align: top;\n",
       "    }\n",
       "\n",
       "    .dataframe thead th {\n",
       "        text-align: right;\n",
       "    }\n",
       "</style>\n",
       "<table border=\"1\" class=\"dataframe\">\n",
       "  <thead>\n",
       "    <tr style=\"text-align: right;\">\n",
       "      <th></th>\n",
       "      <th>Year</th>\n",
       "      <th>State</th>\n",
       "      <th>Pop</th>\n",
       "      <th>Debt</th>\n",
       "    </tr>\n",
       "  </thead>\n",
       "  <tbody>\n",
       "    <tr>\n",
       "      <th>1st</th>\n",
       "      <td>2000</td>\n",
       "      <td>Ohio</td>\n",
       "      <td>1.2</td>\n",
       "      <td>NaN</td>\n",
       "    </tr>\n",
       "    <tr>\n",
       "      <th>2nd</th>\n",
       "      <td>2001</td>\n",
       "      <td>Ohio</td>\n",
       "      <td>1.6</td>\n",
       "      <td>1.5</td>\n",
       "    </tr>\n",
       "    <tr>\n",
       "      <th>3rd</th>\n",
       "      <td>2002</td>\n",
       "      <td>Ohio</td>\n",
       "      <td>1.8</td>\n",
       "      <td>1.7</td>\n",
       "    </tr>\n",
       "    <tr>\n",
       "      <th>4th</th>\n",
       "      <td>2003</td>\n",
       "      <td>New York</td>\n",
       "      <td>2.1</td>\n",
       "      <td>1.2</td>\n",
       "    </tr>\n",
       "    <tr>\n",
       "      <th>5th</th>\n",
       "      <td>2004</td>\n",
       "      <td>New York</td>\n",
       "      <td>2.5</td>\n",
       "      <td>1.5</td>\n",
       "    </tr>\n",
       "  </tbody>\n",
       "</table>\n",
       "</div>"
      ],
      "text/plain": [
       "     Year     State  Pop Debt\n",
       "1st  2000      Ohio  1.2  NaN\n",
       "2nd  2001      Ohio  1.6  1.5\n",
       "3rd  2002      Ohio  1.8  1.7\n",
       "4th  2003  New York  2.1  1.2\n",
       "5th  2004  New York  2.5  1.5"
      ]
     },
     "execution_count": 45,
     "metadata": {},
     "output_type": "execute_result"
    }
   ],
   "source": [
    "val = pd.Series([\"1.2\", \"1.5\", \"1.7\", \"1.2\", \"1.5\", \"1.7\"], index= [\"Zero\", \"2nd\", \"3rd\", \"4th\", \"5th\", \"6th\"] )\n",
    "state_pop_df2[\"Debt\"]= val\n",
    "state_pop_df2.head()"
   ]
  },
  {
   "cell_type": "code",
   "execution_count": 46,
   "metadata": {},
   "outputs": [
    {
     "data": {
      "text/html": [
       "<div>\n",
       "<style scoped>\n",
       "    .dataframe tbody tr th:only-of-type {\n",
       "        vertical-align: middle;\n",
       "    }\n",
       "\n",
       "    .dataframe tbody tr th {\n",
       "        vertical-align: top;\n",
       "    }\n",
       "\n",
       "    .dataframe thead th {\n",
       "        text-align: right;\n",
       "    }\n",
       "</style>\n",
       "<table border=\"1\" class=\"dataframe\">\n",
       "  <thead>\n",
       "    <tr style=\"text-align: right;\">\n",
       "      <th></th>\n",
       "      <th>Year</th>\n",
       "      <th>State</th>\n",
       "      <th>Pop</th>\n",
       "      <th>Debt</th>\n",
       "    </tr>\n",
       "  </thead>\n",
       "  <tbody>\n",
       "    <tr>\n",
       "      <th>1st</th>\n",
       "      <td>2000</td>\n",
       "      <td>Ohio</td>\n",
       "      <td>1.2</td>\n",
       "      <td>NaN</td>\n",
       "    </tr>\n",
       "    <tr>\n",
       "      <th>2nd</th>\n",
       "      <td>2001</td>\n",
       "      <td>Ohio</td>\n",
       "      <td>1.6</td>\n",
       "      <td>NaN</td>\n",
       "    </tr>\n",
       "    <tr>\n",
       "      <th>3rd</th>\n",
       "      <td>2002</td>\n",
       "      <td>Ohio</td>\n",
       "      <td>1.8</td>\n",
       "      <td>1.5</td>\n",
       "    </tr>\n",
       "    <tr>\n",
       "      <th>4th</th>\n",
       "      <td>2003</td>\n",
       "      <td>New York</td>\n",
       "      <td>2.1</td>\n",
       "      <td>NaN</td>\n",
       "    </tr>\n",
       "    <tr>\n",
       "      <th>5th</th>\n",
       "      <td>2004</td>\n",
       "      <td>New York</td>\n",
       "      <td>2.5</td>\n",
       "      <td>1.7</td>\n",
       "    </tr>\n",
       "  </tbody>\n",
       "</table>\n",
       "</div>"
      ],
      "text/plain": [
       "     Year     State  Pop Debt\n",
       "1st  2000      Ohio  1.2  NaN\n",
       "2nd  2001      Ohio  1.6  NaN\n",
       "3rd  2002      Ohio  1.8  1.5\n",
       "4th  2003  New York  2.1  NaN\n",
       "5th  2004  New York  2.5  1.7"
      ]
     },
     "execution_count": 46,
     "metadata": {},
     "output_type": "execute_result"
    }
   ],
   "source": [
    "val = pd.Series([ \"1.5\", \"1.7\", \"1.5\"], index= [ \"3rd\", \"5th\", \"6th\"] )\n",
    "state_pop_df2[\"Debt\"]= val\n",
    "state_pop_df2.head()"
   ]
  },
  {
   "cell_type": "code",
   "execution_count": 47,
   "metadata": {},
   "outputs": [
    {
     "data": {
      "text/html": [
       "<div>\n",
       "<style scoped>\n",
       "    .dataframe tbody tr th:only-of-type {\n",
       "        vertical-align: middle;\n",
       "    }\n",
       "\n",
       "    .dataframe tbody tr th {\n",
       "        vertical-align: top;\n",
       "    }\n",
       "\n",
       "    .dataframe thead th {\n",
       "        text-align: right;\n",
       "    }\n",
       "</style>\n",
       "<table border=\"1\" class=\"dataframe\">\n",
       "  <thead>\n",
       "    <tr style=\"text-align: right;\">\n",
       "      <th></th>\n",
       "      <th>Year</th>\n",
       "      <th>State</th>\n",
       "      <th>Pop</th>\n",
       "      <th>Debt</th>\n",
       "    </tr>\n",
       "  </thead>\n",
       "  <tbody>\n",
       "    <tr>\n",
       "      <th>1st</th>\n",
       "      <td>2000</td>\n",
       "      <td>Ohio</td>\n",
       "      <td>1.2</td>\n",
       "      <td>22.5</td>\n",
       "    </tr>\n",
       "    <tr>\n",
       "      <th>2nd</th>\n",
       "      <td>2001</td>\n",
       "      <td>Ohio</td>\n",
       "      <td>1.6</td>\n",
       "      <td>22.5</td>\n",
       "    </tr>\n",
       "    <tr>\n",
       "      <th>3rd</th>\n",
       "      <td>2002</td>\n",
       "      <td>Ohio</td>\n",
       "      <td>1.8</td>\n",
       "      <td>22.5</td>\n",
       "    </tr>\n",
       "    <tr>\n",
       "      <th>4th</th>\n",
       "      <td>2003</td>\n",
       "      <td>New York</td>\n",
       "      <td>2.1</td>\n",
       "      <td>22.5</td>\n",
       "    </tr>\n",
       "    <tr>\n",
       "      <th>5th</th>\n",
       "      <td>2004</td>\n",
       "      <td>New York</td>\n",
       "      <td>2.5</td>\n",
       "      <td>22.5</td>\n",
       "    </tr>\n",
       "  </tbody>\n",
       "</table>\n",
       "</div>"
      ],
      "text/plain": [
       "     Year     State  Pop  Debt\n",
       "1st  2000      Ohio  1.2  22.5\n",
       "2nd  2001      Ohio  1.6  22.5\n",
       "3rd  2002      Ohio  1.8  22.5\n",
       "4th  2003  New York  2.1  22.5\n",
       "5th  2004  New York  2.5  22.5"
      ]
     },
     "execution_count": 47,
     "metadata": {},
     "output_type": "execute_result"
    }
   ],
   "source": [
    "state_pop_df2[\"Debt\"]= 22.5\n",
    "state_pop_df2.head()"
   ]
  },
  {
   "cell_type": "code",
   "execution_count": null,
   "metadata": {},
   "outputs": [],
   "source": []
  }
 ],
 "metadata": {
  "kernelspec": {
   "display_name": "Python 3",
   "language": "python",
   "name": "python3"
  },
  "language_info": {
   "codemirror_mode": {
    "name": "ipython",
    "version": 3
   },
   "file_extension": ".py",
   "mimetype": "text/x-python",
   "name": "python",
   "nbconvert_exporter": "python",
   "pygments_lexer": "ipython3",
   "version": "3.7.3"
  }
 },
 "nbformat": 4,
 "nbformat_minor": 2
}
